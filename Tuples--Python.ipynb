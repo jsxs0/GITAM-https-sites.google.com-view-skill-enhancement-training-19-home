{
 "cells": [
  {
   "cell_type": "markdown",
   "metadata": {},
   "source": [
    "# Tuples\n",
    "It is a seq of set of objs like a list\n",
    "\n",
    "The difference b/w list and tuples are:\n",
    "    \n",
    "    tuples cant be changed unlike lists\n",
    "    \n",
    "    List uses square brackets[] to hold obj but tuples use paranthesis()\n",
    "    \n",
    "    \n",
    "Useful wwhen given i/p is only for reading purpose    \n",
    "    \n",
    "    "
   ]
  },
  {
   "cell_type": "code",
   "execution_count": 2,
   "metadata": {},
   "outputs": [
    {
     "name": "stdout",
     "output_type": "stream",
     "text": [
      "('python', 'programming', 1989, 2019, 'ML', 'AI')\n",
      "(1, 2, 3, 4, 5, 6, 7, 8, 9)\n"
     ]
    }
   ],
   "source": [
    "t1=(\"python\",\"programming\",1989,2019,\"ML\",\"AI\")\n",
    "t2=(1,2,3,4,5,6,7,8,9)\n",
    "print(t1)\n",
    "print(t2)"
   ]
  },
  {
   "cell_type": "code",
   "execution_count": 10,
   "metadata": {},
   "outputs": [
    {
     "name": "stdout",
     "output_type": "stream",
     "text": [
      "t1[0]= python\n",
      "t1[-1]= AI\n",
      "t1[1:4]= ('programming', 1989, 2019)\n",
      "t1[-1:-5]= ()\n",
      "t1[2:-2]= (1989, 2019)\n"
     ]
    },
    {
     "ename": "TypeError",
     "evalue": "'tuple' object does not support item assignment",
     "output_type": "error",
     "traceback": [
      "\u001b[1;31m---------------------------------------------------------------------------\u001b[0m",
      "\u001b[1;31mTypeError\u001b[0m                                 Traceback (most recent call last)",
      "\u001b[1;32m<ipython-input-10-881675abc2dc>\u001b[0m in \u001b[0;36m<module>\u001b[1;34m\u001b[0m\n\u001b[0;32m      5\u001b[0m \u001b[0mprint\u001b[0m\u001b[1;33m(\u001b[0m\u001b[1;34m\"t1[-1:-5]=\"\u001b[0m\u001b[1;33m,\u001b[0m\u001b[0mt1\u001b[0m\u001b[1;33m[\u001b[0m\u001b[1;33m-\u001b[0m\u001b[1;36m1\u001b[0m\u001b[1;33m:\u001b[0m\u001b[1;33m-\u001b[0m\u001b[1;36m5\u001b[0m\u001b[1;33m]\u001b[0m\u001b[1;33m)\u001b[0m\u001b[1;33m\u001b[0m\u001b[1;33m\u001b[0m\u001b[0m\n\u001b[0;32m      6\u001b[0m \u001b[0mprint\u001b[0m\u001b[1;33m(\u001b[0m\u001b[1;34m\"t1[2:-2]=\"\u001b[0m\u001b[1;33m,\u001b[0m\u001b[0mt1\u001b[0m\u001b[1;33m[\u001b[0m\u001b[1;36m2\u001b[0m\u001b[1;33m:\u001b[0m\u001b[1;33m-\u001b[0m\u001b[1;36m2\u001b[0m\u001b[1;33m]\u001b[0m\u001b[1;33m)\u001b[0m\u001b[1;33m\u001b[0m\u001b[1;33m\u001b[0m\u001b[0m\n\u001b[1;32m----> 7\u001b[1;33m \u001b[0mt1\u001b[0m\u001b[1;33m[\u001b[0m\u001b[1;36m2\u001b[0m\u001b[1;33m]\u001b[0m\u001b[1;33m=\u001b[0m\u001b[1;36m2018\u001b[0m \u001b[1;31m#its not user friendly so not psble\u001b[0m\u001b[1;33m\u001b[0m\u001b[1;33m\u001b[0m\u001b[0m\n\u001b[0m\u001b[0;32m      8\u001b[0m \u001b[0mprint\u001b[0m\u001b[1;33m(\u001b[0m\u001b[0mt1\u001b[0m\u001b[1;33m[\u001b[0m\u001b[1;36m2\u001b[0m\u001b[1;33m]\u001b[0m\u001b[1;33m)\u001b[0m\u001b[1;31m# showserror\u001b[0m\u001b[1;33m\u001b[0m\u001b[1;33m\u001b[0m\u001b[0m\n\u001b[0;32m      9\u001b[0m \u001b[1;32mdel\u001b[0m \u001b[0mt1\u001b[0m\u001b[1;33m[\u001b[0m\u001b[1;36m2\u001b[0m\u001b[1;33m]\u001b[0m \u001b[1;31m# cant delete shows error\u001b[0m\u001b[1;33m\u001b[0m\u001b[1;33m\u001b[0m\u001b[0m\n",
      "\u001b[1;31mTypeError\u001b[0m: 'tuple' object does not support item assignment"
     ]
    }
   ],
   "source": [
    "t1=(\"python\",\"programming\",1989,2019,\"ML\",\"AI\")\n",
    "print(\"t1[0]=\",t1[0])\n",
    "print(\"t1[-1]=\",t1[-1])\n",
    "print(\"t1[1:4]=\",t1[1:4])\n",
    "print(\"t1[-1:-5]=\",t1[-1:-5])\n",
    "print(\"t1[2:-2]=\",t1[2:-2]) \n",
    "t1[2]=2018 #its not user friendly so not psble\n",
    "print(t1[2])# showserror\n",
    "del t1[2] # cant delete shows error \n",
    "print(t1[2])"
   ]
  },
  {
   "cell_type": "code",
   "execution_count": 11,
   "metadata": {},
   "outputs": [
    {
     "name": "stdout",
     "output_type": "stream",
     "text": [
      "('python', 'programming', 1989, 2019, 'ML', 'AI', 1, 2, 3, 4)\n"
     ]
    }
   ],
   "source": [
    "t1=(\"python\",\"programming\",1989,2019,\"ML\",\"AI\")\n",
    "t2=(1,2,3,4)\n",
    "t3=t1+t2\n",
    "print(t3)"
   ]
  },
  {
   "cell_type": "markdown",
   "metadata": {},
   "source": [
    "# Tuple Methods\n",
    "\n",
    "**1. len(tuple)**:-len of tuple\n",
    "\n",
    "**2. max(tuple)**:- returns max value from tuple\n",
    "\n",
    "**3. min(tuple)**:- returns min val frm tuple\n",
    "\n",
    "**4. cmp(t1,t2)**:- returns 1 or -1"
   ]
  },
  {
   "cell_type": "code",
   "execution_count": 15,
   "metadata": {},
   "outputs": [
    {
     "name": "stdout",
     "output_type": "stream",
     "text": [
      "6\n",
      "5\n",
      "1\n"
     ]
    }
   ],
   "source": [
    "t1=(\"python\",\"programming\",1989,2019,\"ML\",\"AI\")\n",
    "print(len(t1))\n",
    "t2=(1,2,3,4,5)\n",
    "print(max(t2))\n",
    "print(min(t2))"
   ]
  },
  {
   "cell_type": "code",
   "execution_count": 20,
   "metadata": {},
   "outputs": [
    {
     "name": "stdout",
     "output_type": "stream",
     "text": [
      "(1, 2, 3, 4, 5) (1, 2, 3, 4, 5)\n"
     ]
    },
    {
     "ename": "NameError",
     "evalue": "name 'cmp' is not defined",
     "output_type": "error",
     "traceback": [
      "\u001b[1;31m---------------------------------------------------------------------------\u001b[0m",
      "\u001b[1;31mNameError\u001b[0m                                 Traceback (most recent call last)",
      "\u001b[1;32m<ipython-input-20-f6aaabd2dd0a>\u001b[0m in \u001b[0;36m<module>\u001b[1;34m\u001b[0m\n\u001b[0;32m      2\u001b[0m \u001b[0mt2\u001b[0m\u001b[1;33m=\u001b[0m\u001b[1;33m(\u001b[0m\u001b[1;36m1\u001b[0m\u001b[1;33m,\u001b[0m\u001b[1;36m2\u001b[0m\u001b[1;33m,\u001b[0m\u001b[1;36m3\u001b[0m\u001b[1;33m,\u001b[0m\u001b[1;36m4\u001b[0m\u001b[1;33m,\u001b[0m\u001b[1;36m5\u001b[0m\u001b[1;33m)\u001b[0m\u001b[1;33m\u001b[0m\u001b[1;33m\u001b[0m\u001b[0m\n\u001b[0;32m      3\u001b[0m \u001b[0mprint\u001b[0m\u001b[1;33m(\u001b[0m\u001b[0mt1\u001b[0m \u001b[1;33m,\u001b[0m\u001b[0mt2\u001b[0m\u001b[1;33m)\u001b[0m\u001b[1;33m\u001b[0m\u001b[1;33m\u001b[0m\u001b[0m\n\u001b[1;32m----> 4\u001b[1;33m \u001b[0ma\u001b[0m\u001b[1;33m=\u001b[0m\u001b[0mcmp\u001b[0m\u001b[1;33m(\u001b[0m\u001b[0mt1\u001b[0m\u001b[1;33m,\u001b[0m\u001b[0mt2\u001b[0m\u001b[1;33m)\u001b[0m\u001b[1;33m\u001b[0m\u001b[1;33m\u001b[0m\u001b[0m\n\u001b[0m",
      "\u001b[1;31mNameError\u001b[0m: name 'cmp' is not defined"
     ]
    }
   ],
   "source": [
    "t1=(1,2,3,4,5)\n",
    "t2=(1,2,3,4,5)\n",
    "print(t1 ,t2)\n",
    "a=cmp(t1,t2)"
   ]
  },
  {
   "cell_type": "code",
   "execution_count": 21,
   "metadata": {},
   "outputs": [
    {
     "name": "stdout",
     "output_type": "stream",
     "text": [
      "['python', 'programming', 1989, 2019, 'ML', 'AI']\n",
      "('python', 'programming', 1989, 2019, 'ML', 'AI')\n"
     ]
    }
   ],
   "source": [
    "t1=[\"python\",\"programming\",1989,2019,\"ML\",\"AI\"]\n",
    "print(t1);\n",
    "t=tuple(t1)\n",
    "print(t)"
   ]
  },
  {
   "cell_type": "markdown",
   "metadata": {},
   "source": [
    "# Python Dictionary\n",
    "\n",
    "**Methods**\n",
    "\n",
    "**1.len(dictn)** :- returns a no. which is lngth \n",
    "\n",
    "**2.str(dictn)** :- returns string eqn value to dictn obj\n",
    "\n",
    "**3.copy(dictn)** :- copies one dictn obj to other dictn\n",
    "\n",
    "**4.items()** :- retuns a list of dictn(key,value) "
   ]
  },
  {
   "cell_type": "code",
   "execution_count": 26,
   "metadata": {},
   "outputs": [
    {
     "name": "stdout",
     "output_type": "stream",
     "text": [
      "user1[Name]=  Anant\n",
      "user1[Age]=  18\n",
      "user1[EmailID]=  ashandanant@gmail.com\n",
      "user1[Mobile Number]=  7032653823\n",
      "Hyderabad\n"
     ]
    }
   ],
   "source": [
    "user1={'Name':'Anant','Age':'18','EmailID':'ashandanant@gmail.com','Mobile Number':'7032653823'}\n",
    "print(\"user1[Name]= \",user1['Name'])\n",
    "print(\"user1[Age]= \",user1['Age'])\n",
    "print(\"user1[EmailID]= \",user1['EmailID'])\n",
    "print(\"user1[Mobile Number]= \",user1['Mobile Number'])\n",
    "user1['Address']='Hyderabad'\n",
    "print(user1['Address'])"
   ]
  },
  {
   "cell_type": "code",
   "execution_count": 38,
   "metadata": {},
   "outputs": [
    {
     "name": "stdout",
     "output_type": "stream",
     "text": [
      "{'Name': 'Anant', 'Age': '18', 'Mobile Number': '7032653823'}\n",
      "{}\n"
     ]
    }
   ],
   "source": [
    "user1={'Name':'Anant','Age':'18','EmailID':'ashandanant@gmail.com','Mobile Number':'7032653823'}\n",
    "del user1['EmailID']\n",
    "print(user1)\n",
    "user1.clear()\n",
    "print(user1)\n",
    "\n"
   ]
  },
  {
   "cell_type": "code",
   "execution_count": 41,
   "metadata": {},
   "outputs": [
    {
     "name": "stdout",
     "output_type": "stream",
     "text": [
      "4\n",
      "5\n"
     ]
    }
   ],
   "source": [
    "user1={'Name':'Anant','Age':'18','EmailID':'ashandanant@gmail.com','Mobile Number':'7032653823'}\n",
    "print(len(user1))\n",
    "user1['Address']='Hyderabad'\n",
    "print(len(user1))"
   ]
  },
  {
   "cell_type": "code",
   "execution_count": 42,
   "metadata": {},
   "outputs": [
    {
     "name": "stdout",
     "output_type": "stream",
     "text": [
      "{'Name': 'Anant', 'Age': '18', 'EmailID': 'ashandanant@gmail.com', 'Mobile Number': '7032653823'}\n"
     ]
    }
   ],
   "source": [
    "user1={'Name':'Anant','Age':'18','EmailID':'ashandanant@gmail.com','Mobile Number':'7032653823'}\n",
    "print(str(user1))"
   ]
  },
  {
   "cell_type": "code",
   "execution_count": 45,
   "metadata": {},
   "outputs": [
    {
     "name": "stdout",
     "output_type": "stream",
     "text": [
      "{'Name': 'Anant', 'Age': '18', 'EmailID': 'ashandanant@gmail.com', 'Mobile Number': '7032653823'}\n",
      "{'Name': 'Anant', 'Age': '18', 'EmailID': 'ashandanant@gmail.com', 'Mobile Number': '7032653823'}\n",
      "{'Name': 'Anant', 'Age': '18', 'EmailID': 'ashandanant@gmail.com', 'Mobile Number': '7032653823', 'Address': 'Hyderabad'}\n",
      "{'Name': 'Anant', 'Age': '18', 'EmailID': 'ashandanant@gmail.com', 'Mobile Number': '7032653823'}\n"
     ]
    }
   ],
   "source": [
    "user1={'Name':'Anant','Age':'18','EmailID':'ashandanant@gmail.com','Mobile Number':'7032653823'}\n",
    "user2=user1.copy()\n",
    "print(user1)\n",
    "print(user2)\n",
    "user1['Address']='Hyderabad'\n",
    "print(user1)\n",
    "print(user2)\n"
   ]
  },
  {
   "cell_type": "code",
   "execution_count": 46,
   "metadata": {},
   "outputs": [
    {
     "name": "stdout",
     "output_type": "stream",
     "text": [
      "dict_items([('Name', 'Anant'), ('Age', '18'), ('EmailID', 'ashandanant@gmail.com'), ('Mobile Number', '7032653823')])\n"
     ]
    }
   ],
   "source": [
    "user1={'Name':'Anant','Age':'18','EmailID':'ashandanant@gmail.com','Mobile Number':'7032653823'}\n",
    "print(user1.items())"
   ]
  },
  {
   "cell_type": "code",
   "execution_count": 48,
   "metadata": {},
   "outputs": [
    {
     "name": "stdout",
     "output_type": "stream",
     "text": [
      "dict_values(['Anant', '18', 'ashandanant@gmail.com', '7032653823'])\n",
      "dict_values(['Anant', '18', 'ashandanant@gmail.com', '7032653823'])\n"
     ]
    }
   ],
   "source": [
    "user1={'Name':'Anant','Age':'18','EmailID':'ashandanant@gmail.com','Mobile Number':'7032653823'}\n",
    "user2=user1.copy()\n",
    "print(user1.values())\n",
    "print(user2.values())"
   ]
  },
  {
   "cell_type": "markdown",
   "metadata": {},
   "source": [
    "# ##` String Formatting\n",
    "\n",
    "%s %d"
   ]
  },
  {
   "cell_type": "code",
   "execution_count": 50,
   "metadata": {},
   "outputs": [
    {
     "name": "stdout",
     "output_type": "stream",
     "text": [
      "typo typical\n"
     ]
    }
   ],
   "source": [
    "lst=['typo','typical']\n",
    "print(\"%s %s\"%(lst[0],lst[1]))"
   ]
  },
  {
   "cell_type": "code",
   "execution_count": 106,
   "metadata": {},
   "outputs": [
    {
     "name": "stdout",
     "output_type": "stream",
     "text": [
      "typo typical\n",
      "1 2 3 4\n",
      "value at :1 value at: 2\n"
     ]
    }
   ],
   "source": [
    "lst=['typo','typical']\n",
    "print(\"{0} {1}\".format(lst[0],lst[1]))\n",
    "\n",
    "lst1=[1,2,3,4]\n",
    "print(\"%d %d %d %d\" % (lst1[0],lst1[1],lst1[2],lst1[3]))\n",
    "\n",
    "print(\"value at :{0} value at: {1}\".format(lst1[0],lst1[1]))\n"
   ]
  },
  {
   "cell_type": "markdown",
   "metadata": {},
   "source": [
    "# Contact Application\n",
    "\n",
    "1. Add new contact\n",
    "2. Search for contact\n",
    "3. List of all contacts<br>\n",
    "   3.1 Name 1-phone 1<br>\n",
    "   3.2 Name 2-phone 2<br>\n",
    "   3.3 Importing new Contacts<br>\n",
    "   3.4 Merge to existing Contacts<br>\n",
    "4. Remove Contact\n",
    "5. Modify Contact"
   ]
  },
  {
   "cell_type": "code",
   "execution_count": 62,
   "metadata": {},
   "outputs": [
    {
     "name": "stdout",
     "output_type": "stream",
     "text": [
      "contact Anant added\n",
      "contact Manikumar added\n",
      "contact xyz added\n"
     ]
    }
   ],
   "source": [
    "contact={}\n",
    "def addContact(name,phone):\n",
    "    #verify that contact doesnt already exist\n",
    "    if name not in contact:\n",
    "        contact[name]=phone\n",
    "        print(\"contact %s added\" % name)\n",
    "    else:\n",
    "        print(\"contact %s already exists\" % name)\n",
    "    return\n",
    "\n",
    "addContact(\"Anant\",7032653823)\n",
    "addContact(\"Manikumar\",123456788)\n",
    "addContact(\"xyz\",123456788)"
   ]
  },
  {
   "cell_type": "code",
   "execution_count": 67,
   "metadata": {},
   "outputs": [
    {
     "name": "stdout",
     "output_type": "stream",
     "text": [
      "Anant :  7032653823\n",
      "Manikumar :  123456788\n",
      "qwerty doesnt exist \n"
     ]
    }
   ],
   "source": [
    "# search for a particular contact from contacts list\n",
    "\n",
    "def searchContact(name):\n",
    "    if name in contact:\n",
    "        print(name, \": \",contact[name])\n",
    "    else:\n",
    "        print(\"%s doesnt exist \" %name)\n",
    "    return\n",
    "searchContact(\"Anant\")\n",
    "searchContact(\"Manikumar\")\n",
    "searchContact(\"qwerty\")"
   ]
  },
  {
   "cell_type": "code",
   "execution_count": 68,
   "metadata": {},
   "outputs": [
    {
     "name": "stdout",
     "output_type": "stream",
     "text": [
      "{'Anant': 7032653823, 'Manikumar': 123456788, 'xyz': 123456788}\n"
     ]
    }
   ],
   "source": [
    "# New Contacts is given as a dictionary\n",
    "print(contact)"
   ]
  },
  {
   "cell_type": "code",
   "execution_count": 85,
   "metadata": {},
   "outputs": [
    {
     "name": "stdout",
     "output_type": "stream",
     "text": [
      "2 Contacts added succesfully\n"
     ]
    }
   ],
   "source": [
    "# New Contacts is given as a dictionary\n",
    "# Merge new contact with existing contact list\n",
    "def importContact(newContacts):\n",
    "    contact.update(newContacts)\n",
    "    print(len(newContacts.keys()),\"Contacts added succesfully\")\n",
    "    return\n",
    "newContacts={'Abc':123456789,'yui':987654321}\n",
    "importContact(newContacts)"
   ]
  },
  {
   "cell_type": "code",
   "execution_count": 88,
   "metadata": {},
   "outputs": [
    {
     "name": "stdout",
     "output_type": "stream",
     "text": [
      "{'Anant': 7032653823, 'Manikumar': 123456788, 'yui': 987654321}\n"
     ]
    }
   ],
   "source": [
    "print(contact)"
   ]
  },
  {
   "cell_type": "code",
   "execution_count": 86,
   "metadata": {},
   "outputs": [
    {
     "name": "stdout",
     "output_type": "stream",
     "text": [
      "xyz : is not in list\n",
      "Abc : is deleted\n"
     ]
    }
   ],
   "source": [
    "# Delete a contact from Contacts list\n",
    "def deleteContact(name):\n",
    "    if name in contact:\n",
    "        del contact[name]\n",
    "        print(name,\": is deleted\")\n",
    "    else:\n",
    "        print(name,\": is not in list\")\n",
    "        \n",
    "    return\n",
    "deleteContact(\"xyz\")\n",
    "deleteContact(\"Abc\")"
   ]
  },
  {
   "cell_type": "code",
   "execution_count": 87,
   "metadata": {},
   "outputs": [
    {
     "name": "stdout",
     "output_type": "stream",
     "text": [
      "{'Anant': 7032653823, 'Manikumar': 123456788, 'yui': 987654321}\n"
     ]
    }
   ],
   "source": [
    "print(contact)"
   ]
  },
  {
   "cell_type": "code",
   "execution_count": 91,
   "metadata": {},
   "outputs": [
    {
     "name": "stdout",
     "output_type": "stream",
     "text": [
      "yui  : updated with new phone number\n",
      "Abc  : doesnt exist in contacts\n"
     ]
    }
   ],
   "source": [
    "def updateContact(name,phone):\n",
    "    if name in contact:\n",
    "        contact[name]=phone\n",
    "        print(name,\" : updated with new phone number\")\n",
    "    else:\n",
    "        print(name,\" : doesnt exist in contacts\")\n",
    "    \n",
    "    return\n",
    "updateContact(\"yui\",987654321)\n",
    "updateContact(\"Abc\",123456789)"
   ]
  },
  {
   "cell_type": "code",
   "execution_count": 92,
   "metadata": {},
   "outputs": [
    {
     "name": "stdout",
     "output_type": "stream",
     "text": [
      "{'Anant': 7032653823, 'Manikumar': 123456788, 'yui': 987654321}\n"
     ]
    }
   ],
   "source": [
    "print(contact)"
   ]
  },
  {
   "cell_type": "markdown",
   "metadata": {},
   "source": [
    "# Packages and Modules\n",
    "\n",
    "**Packages**:- Collection of Modules(Python file .py)\n",
    "\n",
    "**Sub Packages**:- Its part of main package\n",
    "\n",
    "**Module**:- A single Python file contains set of operations(functions)\n",
    "\n",
    "   *Package --> Sub-Package --> Modules --> Functions*\n",
    "\n",
    "-----\n",
    "*#Standard Lib --- Math *"
   ]
  },
  {
   "cell_type": "code",
   "execution_count": 107,
   "metadata": {},
   "outputs": [
    {
     "data": {
      "text/plain": [
       "123"
      ]
     },
     "execution_count": 107,
     "metadata": {},
     "output_type": "execute_result"
    }
   ],
   "source": [
    "from math import floor as f1\n",
    "f1(123.456)"
   ]
  },
  {
   "cell_type": "code",
   "execution_count": 108,
   "metadata": {},
   "outputs": [
    {
     "data": {
      "text/plain": [
       "120"
      ]
     },
     "execution_count": 108,
     "metadata": {},
     "output_type": "execute_result"
    }
   ],
   "source": [
    "from math import factorial as fact\n",
    "fact(5)"
   ]
  },
  {
   "cell_type": "code",
   "execution_count": 109,
   "metadata": {},
   "outputs": [
    {
     "data": {
      "text/plain": [
       "120"
      ]
     },
     "execution_count": 109,
     "metadata": {},
     "output_type": "execute_result"
    }
   ],
   "source": [
    "import math\n",
    "math.factorial(5)"
   ]
  },
  {
   "cell_type": "code",
   "execution_count": 110,
   "metadata": {},
   "outputs": [
    {
     "name": "stdout",
     "output_type": "stream",
     "text": [
      "466 202 225 119 227 359 73 67 436 120 "
     ]
    }
   ],
   "source": [
    "# generate the random numbers between two limits\n",
    "import random\n",
    "def generateRandomNumbers(n,lb,ub):\n",
    "    for i in range(0,n):\n",
    "        print(random.randint(lb,ub),end=\" \")\n",
    "    return\n",
    "generateRandomNumbers(10,23,560)"
   ]
  },
  {
   "cell_type": "code",
   "execution_count": 115,
   "metadata": {},
   "outputs": [
    {
     "name": "stdout",
     "output_type": "stream",
     "text": [
      "['john', 'peter']\n"
     ]
    }
   ],
   "source": [
    "\n",
    "d = {'john':40, 'peter':45}\n",
    "print(list(d.keys()))"
   ]
  },
  {
   "cell_type": "code",
   "execution_count": 116,
   "metadata": {},
   "outputs": [],
   "source": [
    "# use math package---- extraxt minimum of 10 funct\n",
    "# use random package--- extract mim of 10 functions"
   ]
  },
  {
   "cell_type": "code",
   "execution_count": 128,
   "metadata": {},
   "outputs": [
    {
     "name": "stdout",
     "output_type": "stream",
     "text": [
      "Natural logarithm of 14 is : 2.6390573296152584\n",
      "The gcd of 60 and 48 is : 12\n",
      "4.0\n",
      "3.0\n"
     ]
    }
   ],
   "source": [
    "import math\n",
    "print (\"Natural logarithm of 14 is : \", end=\"\") \n",
    "print (math.log(14)) \n",
    "\n",
    "  #gcd \n",
    "print (\"The gcd of 60 and 48 is : \",end=\"\") \n",
    "print (math.gcd(60,48)) \n",
    "\n",
    "\n",
    "# fmod\n",
    "Tup = (15, 22, -2, -40 ) \n",
    "print(math.fmod(4, 5)) \n",
    "print(math.fmod(43.50, 4.5)) \n",
    "  \n"
   ]
  },
  {
   "cell_type": "code",
   "execution_count": 129,
   "metadata": {},
   "outputs": [
    {
     "name": "stdout",
     "output_type": "stream",
     "text": [
      "120\n",
      "123\n"
     ]
    }
   ],
   "source": [
    "import math\n",
    "print(math.factorial(5))\n",
    "  \n",
    "from math import floor as f1\n",
    "print(f1(123.456))"
   ]
  },
  {
   "cell_type": "code",
   "execution_count": null,
   "metadata": {},
   "outputs": [],
   "source": []
  },
  {
   "cell_type": "code",
   "execution_count": 145,
   "metadata": {},
   "outputs": [
    {
     "name": "stdout",
     "output_type": "stream",
     "text": [
      "[60, 16, 47, 7, 14, 60, 40, 5, 90, 34]\n",
      "[0.767742697583401, 0.6238301372755677, 0.7108387744246552, 0.7828081732944163, 0.060512855082970884, 0.12103639774880492, 0.4384519105126773, 0.04533892688001895, 0.9574565916653219, 0.6291438947440966]\n",
      "[90, 5, 34, 7, 40, 60, 60, 14, 16, 47]\n",
      "7.228956374584875\n",
      "None\n",
      "60\n"
     ]
    }
   ],
   "source": [
    "from random import *\n",
    "lt,lq,lw,le=[],[],[],[]\n",
    "for i in range(10):\n",
    "    lt.append(randint(1,100))\n",
    "    lq.append(random())\n",
    "print(lt)\n",
    "print(lq)\n",
    "shuffle(lt)\n",
    "print(lt)\n",
    "k=uniform(5,10)\n",
    "print(k)\n",
    "z=seed(k)\n",
    "print(z)\n",
    "print(choice(lt))"
   ]
  },
  {
   "cell_type": "code",
   "execution_count": null,
   "metadata": {},
   "outputs": [],
   "source": []
  }
 ],
 "metadata": {
  "kernelspec": {
   "display_name": "Python 3",
   "language": "python",
   "name": "python3"
  },
  "language_info": {
   "codemirror_mode": {
    "name": "ipython",
    "version": 3
   },
   "file_extension": ".py",
   "mimetype": "text/x-python",
   "name": "python",
   "nbconvert_exporter": "python",
   "pygments_lexer": "ipython3",
   "version": "3.7.3"
  }
 },
 "nbformat": 4,
 "nbformat_minor": 2
}
