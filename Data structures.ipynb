{
 "cells": [
  {
   "cell_type": "markdown",
   "metadata": {},
   "source": [
    "# Linear search"
   ]
  },
  {
   "cell_type": "code",
   "execution_count": 12,
   "metadata": {},
   "outputs": [
    {
     "name": "stdout",
     "output_type": "stream",
     "text": [
      "target item found\n"
     ]
    }
   ],
   "source": [
    "def linearSearch(a,tarItem):\n",
    "    flag=0;\n",
    "    for i in range(len(a)):\n",
    "        if(a[i]==tarItem):\n",
    "            flag=1;\n",
    "            break;\n",
    "    if(flag!=0):\n",
    "        print(\"target item found\");\n",
    "    else:\n",
    "        print(\"not found\");\n",
    "\n",
    "        \n",
    "a=[12,34,67,1,3,35,76,12,66];        \n",
    "linearSearch(a,76);        \n",
    "        \n",
    "        "
   ]
  },
  {
   "cell_type": "code",
   "execution_count": 9,
   "metadata": {},
   "outputs": [
    {
     "name": "stdout",
     "output_type": "stream",
     "text": [
      "3\n"
     ]
    }
   ],
   "source": [
    "def linearSearchDupItem(a,tarItem):\n",
    "    flag=0;\n",
    "    for i in range(len(a)):\n",
    "        if(a[i]==tarItem):\n",
    "            flag=flag+1;\n",
    "            \n",
    "    print(flag);        \n",
    "\n",
    "\n",
    "        \n",
    "a=[76,45,76,34,76,43,56,12,889,90];        \n",
    "linearSearchDupItem(a,76);      "
   ]
  },
  {
   "cell_type": "markdown",
   "metadata": {},
   "source": [
    "#### Print the indexes of the target item"
   ]
  },
  {
   "cell_type": "code",
   "execution_count": 25,
   "metadata": {},
   "outputs": [
    {
     "name": "stdout",
     "output_type": "stream",
     "text": [
      "1 4 7 "
     ]
    }
   ],
   "source": [
    "def linearExample(a,tarItem):\n",
    "    for i in range(len(a)):\n",
    "        if(a[i]==tarItem):\n",
    "            print(i,end=\" \");\n",
    "    \n",
    "     \n",
    "        \n",
    "        \n",
    "            \n",
    "            \n",
    "   \n",
    "    \n",
    "    \n",
    "    \n",
    "a=[1,5,9,6,5,15,12,5]\n",
    "linearExample(a,5)#147"
   ]
  },
  {
   "cell_type": "markdown",
   "metadata": {},
   "source": [
    "####  print the indexes as !(no of times of index like if index = 2 then print !! and so..) "
   ]
  },
  {
   "cell_type": "code",
   "execution_count": 27,
   "metadata": {},
   "outputs": [
    {
     "name": "stdout",
     "output_type": "stream",
     "text": [
      "!\n",
      "!\n",
      " \n",
      "!\n",
      "!\n",
      "!\n",
      "!\n",
      "!\n",
      " \n",
      "!\n",
      "!\n",
      "!\n",
      "!\n",
      "!\n",
      "!\n",
      "!\n",
      "!\n",
      " \n"
     ]
    }
   ],
   "source": [
    "def linearexample(a,taritem):\n",
    "    for i in range(len(a)):\n",
    "        if(a[i]==taritem):\n",
    "            j=0;\n",
    "            while j!=i+1:\n",
    "                 print(\"!\");\n",
    "                 j=j+1\n",
    "            print(\" \")\n",
    "a=[1,5,9,6,5,15,12,5]\n",
    "linearexample(a,5)"
   ]
  },
  {
   "cell_type": "markdown",
   "metadata": {},
   "source": [
    "# Example\n",
    "\n",
    "Input:List Output:As per the given\n",
    "\n",
    "Test cases:\n",
    "[15,12,2,9,18,36,45]\n",
    "\n",
    "A list item should be perfect multiple of 3 and 5\n",
    "Sum of all the list items which is perfect multiple of 3 and 5"
   ]
  },
  {
   "cell_type": "code",
   "execution_count": 28,
   "metadata": {},
   "outputs": [
    {
     "data": {
      "text/plain": [
       "60"
      ]
     },
     "execution_count": 28,
     "metadata": {},
     "output_type": "execute_result"
    }
   ],
   "source": [
    "def linearexample(a):\n",
    "    sum=0\n",
    "    for i in range(len(a)):\n",
    "        if(a[i]%3==0 and a[i]%5==0):\n",
    "                 sum=sum+a[i];\n",
    "    return sum\n",
    "\n",
    "a=[15,12,2,9,18,36,45]   \n",
    "linearexample(a)"
   ]
  },
  {
   "cell_type": "markdown",
   "metadata": {},
   "source": [
    "# Example\n",
    "input:list\n",
    "output:formatted output\n",
    "test cases:\n",
    "[1,2,3,4,5]----1 3 8 15 5"
   ]
  },
  {
   "cell_type": "code",
   "execution_count": 29,
   "metadata": {},
   "outputs": [
    {
     "name": "stdout",
     "output_type": "stream",
     "text": [
      "1\n",
      "3\n",
      "8\n",
      "15\n",
      "5\n"
     ]
    }
   ],
   "source": [
    "def linearexample(a):\n",
    "    for i in range(len(a)):\n",
    "        if i==0 or i==(len(a)-1):\n",
    "            print(a[i])\n",
    "        else:\n",
    "             print(a[i-1]*a[i+1])\n",
    "    \n",
    "    \n",
    "    \n",
    "a=[1,2,3,4,5]\n",
    "linearexample(a)"
   ]
  },
  {
   "cell_type": "markdown",
   "metadata": {},
   "source": [
    "# Example\n",
    "Input:list output:formatted output Test cases: [1,6,9,4,16,19,22] -- 1 9 19 22"
   ]
  },
  {
   "cell_type": "code",
   "execution_count": 31,
   "metadata": {},
   "outputs": [
    {
     "name": "stdout",
     "output_type": "stream",
     "text": [
      "1 9 19 22 "
     ]
    }
   ],
   "source": [
    "def linearFormatOutput(a):\n",
    "    for i in range(len(a)):\n",
    "        if i==0 or (i==len(a)-1):\n",
    "            print(a[i],end=\" \");\n",
    "        elif a[i-1]%2==0 and a[i+1]%2==0:\n",
    "            print(a[i],end=\" \");\n",
    "            \n",
    "            \n",
    "a=[1,6,9,4,16,19,22];\n",
    "linearFormatOutput(a);"
   ]
  },
  {
   "cell_type": "markdown",
   "metadata": {},
   "source": [
    "# Example\n",
    "\n",
    "i/p a no.\n",
    "o/p a list\n",
    "\n",
    "test cases:\n",
    "    \n",
    "    14567---------[1,4,5,6,7]\n",
    "    1974----------[1,9,4,7]"
   ]
  },
  {
   "cell_type": "code",
   "execution_count": null,
   "metadata": {},
   "outputs": [],
   "source": []
  }
 ],
 "metadata": {
  "kernelspec": {
   "display_name": "Python 3",
   "language": "python",
   "name": "python3"
  },
  "language_info": {
   "codemirror_mode": {
    "name": "ipython",
    "version": 3
   },
   "file_extension": ".py",
   "mimetype": "text/x-python",
   "name": "python",
   "nbconvert_exporter": "python",
   "pygments_lexer": "ipython3",
   "version": "3.7.3"
  }
 },
 "nbformat": 4,
 "nbformat_minor": 2
}
