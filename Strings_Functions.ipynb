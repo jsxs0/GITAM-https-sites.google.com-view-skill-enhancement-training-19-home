{
 "cells": [
  {
   "cell_type": "markdown",
   "metadata": {},
   "source": [
    "# In built functions\n",
    "upper()--- returns string with all charas as upper case<br>\n",
    "lower()--- return lower case<br>\n",
    "islower()-- return true or false if true it is lower chara orelse upper chara<br>\n",
    "isupper()-- return true or false<br>"
   ]
  },
  {
   "cell_type": "code",
   "execution_count": 7,
   "metadata": {},
   "outputs": [
    {
     "name": "stdout",
     "output_type": "stream",
     "text": [
      "AQOURS\n",
      "aqours\n",
      "False\n",
      "True\n",
      "True\n"
     ]
    }
   ],
   "source": [
    "str='Aqours'\n",
    "print(str.upper())\n",
    "print(str.lower())\n",
    "st='A'\n",
    "s='aqours'\n",
    "print(st.islower())\n",
    "print(s.islower())\n",
    "print(st.isupper())"
   ]
  },
  {
   "cell_type": "code",
   "execution_count": 9,
   "metadata": {},
   "outputs": [
    {
     "name": "stdout",
     "output_type": "stream",
     "text": [
      "True\n",
      "False\n",
      "True\n",
      "False\n"
     ]
    }
   ],
   "source": [
    "## isnumeric()--- true or false if string is numeric\n",
    "## isalpha()--- true or false if string is alphabetic\n",
    "\n",
    "s='2345'\n",
    "s1='Aqours 0 to 1'\n",
    "print(s.isnumeric())\n",
    "print(s1.isnumeric())\n",
    "s='Aqours'\n",
    "print(s.isalpha())\n",
    "print(s1.isalpha())"
   ]
  },
  {
   "cell_type": "code",
   "execution_count": 18,
   "metadata": {},
   "outputs": [
    {
     "name": "stdout",
     "output_type": "stream",
     "text": [
      "False\n",
      "True\n",
      "False\n",
      "True\n"
     ]
    }
   ],
   "source": [
    "## istitle()---  true if the given string's 1st character is upper case,i.e, it is as a title\n",
    "## isspace()--- true or false\n",
    "\n",
    "s='Aqours sunshine!!'\n",
    "s1='Aqours Sunshine!!'\n",
    "print(s.istitle())\n",
    "print(s1.istitle())\n",
    "\n",
    "print(s.isspace())\n",
    "st=\" \"\n",
    "print(st.isspace())## for null string only"
   ]
  },
  {
   "cell_type": "markdown",
   "metadata": {},
   "source": [
    "# String Methods\n",
    "join()    :concatinate 2 strings\n",
    "\n",
    "split()   : returns the list the list of strings that are seperated by white space if no parameter is given\n",
    "\n",
    "replace() : replaces the original string with new string\n"
   ]
  },
  {
   "cell_type": "code",
   "execution_count": 22,
   "metadata": {},
   "outputs": [
    {
     "name": "stdout",
     "output_type": "stream",
     "text": [
      "A q o u r s\n"
     ]
    }
   ],
   "source": [
    "str=\"Aqours\"\n",
    "s='kon-chika'\n",
    "print(\" \".join(str))"
   ]
  },
  {
   "cell_type": "code",
   "execution_count": 16,
   "metadata": {},
   "outputs": [
    {
     "name": "stdout",
     "output_type": "stream",
     "text": [
      "Step Zero To One Aqours Sunshine!!\n"
     ]
    }
   ],
   "source": [
    "print(\" \".join([\"Step\",\"Zero\",\"To\",\"One\",\"Aqours\",\"Sunshine!!\"]))"
   ]
  },
  {
   "cell_type": "code",
   "execution_count": 23,
   "metadata": {},
   "outputs": [
    {
     "name": "stdout",
     "output_type": "stream",
     "text": [
      ",\n"
     ]
    }
   ],
   "source": [
    "lst=[\"\",\"\"]\n",
    "print(\",\".join(lst))"
   ]
  },
  {
   "cell_type": "code",
   "execution_count": 43,
   "metadata": {},
   "outputs": [
    {
     "name": "stdout",
     "output_type": "stream",
     "text": [
      "['Step', 'Zero', 'To', 'One', 'Aqours', 'Sunshine!!']\n",
      "['St', 'p Z', 'ro To One Aqours Sunshine!!']\n"
     ]
    }
   ],
   "source": [
    "s=\"Step Zero To One Aqours Sunshine!!\"\n",
    "print(s.split())\n",
    "print(s.split('e',2))\n"
   ]
  },
  {
   "cell_type": "code",
   "execution_count": 32,
   "metadata": {},
   "outputs": [
    {
     "name": "stdout",
     "output_type": "stream",
     "text": [
      "['Step', 'Zero', 'To', 'One', 'Aqours', 'Sunshine!!']\n",
      "3\n"
     ]
    }
   ],
   "source": [
    "## take a string use split to make it into list\n",
    "s=\"Step Zero To One Aqours Sunshine!!\"\n",
    "lst=s.split()\n",
    "print(lst)\n",
    "print(lst.index(\"One\"))\n"
   ]
  },
  {
   "cell_type": "code",
   "execution_count": 33,
   "metadata": {},
   "outputs": [
    {
     "name": "stdout",
     "output_type": "stream",
     "text": [
      "['S', 't', 'e', 'p', ' ', 'Z', 'e', 'r', 'o', ' ', 'T', 'o', ' ', 'O', 'n', 'e', ' ', 'A', 'q', 'o', 'u', 'r', 's', ' ', 'S', 'u', 'n', 's', 'h', 'i', 'n', 'e', '!', '!']\n"
     ]
    }
   ],
   "source": [
    "s=\"Step Zero To One Aqours Sunshine!!\"\n",
    "lst=list(s)\n",
    "print(lst)"
   ]
  },
  {
   "cell_type": "code",
   "execution_count": 36,
   "metadata": {},
   "outputs": [
    {
     "name": "stdout",
     "output_type": "stream",
     "text": [
      "Aqours music start\n"
     ]
    }
   ],
   "source": [
    "s=\"µ's music start\"\n",
    "print(s.replace(\"µ's\",\"Aqours\"))"
   ]
  },
  {
   "cell_type": "code",
   "execution_count": null,
   "metadata": {},
   "outputs": [],
   "source": []
  },
  {
   "cell_type": "code",
   "execution_count": null,
   "metadata": {},
   "outputs": [],
   "source": []
  },
  {
   "cell_type": "code",
   "execution_count": null,
   "metadata": {},
   "outputs": [],
   "source": []
  }
 ],
 "metadata": {
  "kernelspec": {
   "display_name": "Python 3",
   "language": "python",
   "name": "python3"
  },
  "language_info": {
   "codemirror_mode": {
    "name": "ipython",
    "version": 3
   },
   "file_extension": ".py",
   "mimetype": "text/x-python",
   "name": "python",
   "nbconvert_exporter": "python",
   "pygments_lexer": "ipython3",
   "version": "3.7.3"
  }
 },
 "nbformat": 4,
 "nbformat_minor": 2
}
