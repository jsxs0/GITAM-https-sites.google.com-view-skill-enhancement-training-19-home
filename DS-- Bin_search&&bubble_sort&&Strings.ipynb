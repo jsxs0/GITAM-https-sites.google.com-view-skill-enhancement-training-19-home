{
 "cells": [
  {
   "cell_type": "markdown",
   "metadata": {},
   "source": [
    "# Binary_Search\n",
    "\n",
    "The array needs to be sorted to apply this searching works on divide and conquer technique"
   ]
  },
  {
   "cell_type": "code",
   "execution_count": 5,
   "metadata": {},
   "outputs": [
    {
     "name": "stdout",
     "output_type": "stream",
     "text": [
      "pst of founded elmt 3\n",
      "found\n"
     ]
    }
   ],
   "source": [
    "def binSearch(a,l,r,k):\n",
    "    while l<=r:\n",
    "        mid=(l+r)//2;\n",
    "        if(a[mid]==k):\n",
    "            print(\"pst of founded elmt\",mid)\n",
    "            return mid\n",
    "        if(a[mid]>k):\n",
    "            r=mid-1;\n",
    "        else:\n",
    "            l=mid+1;\n",
    "    return -1\n",
    "list=[1,4,6,9,23,56,78]\n",
    "res=binSearch(list,0,6,9)\n",
    "if res!=-1:\n",
    "    print(\"found\");\n",
    "else:\n",
    "    print(\"not found\");"
   ]
  },
  {
   "cell_type": "markdown",
   "metadata": {},
   "source": [
    "# Bubble Sort\n",
    "\n",
    "Pair wise adjacent comparision\n",
    "time complexity-- O(n^2)"
   ]
  },
  {
   "cell_type": "code",
   "execution_count": 11,
   "metadata": {},
   "outputs": [
    {
     "name": "stdout",
     "output_type": "stream",
     "text": [
      "19 34 45 45 56 78 87 98 [19, 34, 45, 45, 56, 78, 87, 98]\n"
     ]
    }
   ],
   "source": [
    "def bubSort(a):\n",
    "    for i in range(len(a)-1):\n",
    "        for j in range(len(a)-1):\n",
    "            if a[j]>a[j+1]:\n",
    "                \n",
    "                a[j],a[j+1]=a[j+1],a[j];\n",
    "        \n",
    "            \n",
    "    for i in range(len(a)):\n",
    "        print(a[i],end=\" \");\n",
    "\n",
    "list=[19,56,78,45,34,98,45,87]\n",
    "bubSort(list);\n",
    "\n",
    "# sort predefined fn\n",
    "\n",
    "list.sort()\n",
    "print(list)"
   ]
  },
  {
   "cell_type": "markdown",
   "metadata": {},
   "source": [
    "# Strings in Python\n",
    "\n",
    "It is a sequence of characters(char array)<br>\n",
    "The conversion of char to integer is via ASCII Code<br>\n",
    "A - Z 65 to 90<br>\n",
    "a - z 97 to 122<br>\n",
    "0 - 9 48 to 57<br>\n"
   ]
  },
  {
   "cell_type": "code",
   "execution_count": 19,
   "metadata": {},
   "outputs": [
    {
     "name": "stdout",
     "output_type": "stream",
     "text": [
      "Aqours\n",
      "kon-chika!\n",
      "yousura!\n",
      "Riko-chan beam! *beep*\n",
      "buu buu desuwa!!\n",
      "hagu!!\n",
      "shiny! ciao!\n",
      "its yohane!\n",
      "ganbaruby!\n",
      "zura!!\n",
      "     \n"
     ]
    }
   ],
   "source": [
    "# creating string\n",
    "string=\"Aqours\"\n",
    "print(string)\n",
    "string=\"\"\"kon-chika!\n",
    "yousura!\n",
    "Riko-chan beam! *beep*\n",
    "buu buu desuwa!!\n",
    "hagu!!\n",
    "shiny! ciao!\n",
    "its yohane!\n",
    "ganbaruby!\n",
    "zura!!\n",
    "     \"\"\"\n",
    "print(string)"
   ]
  },
  {
   "cell_type": "code",
   "execution_count": 38,
   "metadata": {},
   "outputs": [
    {
     "name": "stdout",
     "output_type": "stream",
     "text": [
      "Aqours\n",
      "str[0] A\n",
      "str[-1] s\n",
      "str[-5] q\n",
      "str[1:5] qour\n",
      "str[:5] Aqour\n",
      "str[1:] qours\n",
      "str[3:-2] u\n",
      "str[::-1] sruoqA\n"
     ]
    }
   ],
   "source": [
    "str='Aqours'\n",
    "print(str)\n",
    "print(\"str[0]\",str[0])\n",
    "\n",
    "print(\"str[-1]\",str[-1])\n",
    "print(\"str[-5]\",str[-5])\n",
    "print(\"str[1:5]\",str[1:5])\n",
    "print(\"str[:5]\",str[:5])\n",
    "print(\"str[1:]\",str[1:])\n",
    "print(\"str[3:-2]\",str[3:-2])\n",
    "print(\"str[::-1]\",str[::-1])# reverse string"
   ]
  },
  {
   "cell_type": "markdown",
   "metadata": {},
   "source": [
    "# Palindrome Of String"
   ]
  },
  {
   "cell_type": "code",
   "execution_count": 44,
   "metadata": {},
   "outputs": [
    {
     "name": "stdout",
     "output_type": "stream",
     "text": [
      "True\n",
      "False\n"
     ]
    }
   ],
   "source": [
    "def isPalin(s):\n",
    "    if s==s[::-1]:\n",
    "        return True;\n",
    "    else:\n",
    "        return False;\n",
    "    \n",
    "    \n",
    "print(isPalin(\"mom\"))  \n",
    "print(isPalin(\"Aqours\"))"
   ]
  },
  {
   "cell_type": "code",
   "execution_count": 45,
   "metadata": {},
   "outputs": [
    {
     "name": "stdout",
     "output_type": "stream",
     "text": [
      "enter no.124334556345\n",
      "12\n"
     ]
    }
   ],
   "source": [
    "# count the digits of a number\n",
    "n=int(input(\"enter no.\"))\n",
    "c=0;\n",
    "while n!=0:\n",
    "    c=c+1;\n",
    "    n=n//10;\n",
    "print(c);    "
   ]
  },
  {
   "cell_type": "code",
   "execution_count": 5,
   "metadata": {},
   "outputs": [
    {
     "data": {
      "text/plain": [
       "5"
      ]
     },
     "execution_count": 5,
     "metadata": {},
     "output_type": "execute_result"
    }
   ],
   "source": [
    "def countLength(n):\n",
    "    return(len(n))\n",
    "countLength(\"12345\")\n"
   ]
  },
  {
   "cell_type": "markdown",
   "metadata": {},
   "source": [
    "# Conversion of String to Upper Case"
   ]
  },
  {
   "cell_type": "code",
   "execution_count": 10,
   "metadata": {},
   "outputs": [
    {
     "data": {
      "text/plain": [
       "6"
      ]
     },
     "execution_count": 10,
     "metadata": {},
     "output_type": "execute_result"
    }
   ],
   "source": [
    "# 1st lets find no. of letters\n",
    "\n",
    "def count(str):\n",
    "    lst=list(str)\n",
    "    return len(lst)\n",
    "count(\"Aqours\")"
   ]
  },
  {
   "cell_type": "code",
   "execution_count": 37,
   "metadata": {},
   "outputs": [
    {
     "name": "stdout",
     "output_type": "stream",
     "text": [
      "3\n",
      "6\n"
     ]
    }
   ],
   "source": [
    "def countUpperCase(str):\n",
    "    c=0;\n",
    "    lst=list(str)\n",
    "    for x in range(len(lst)):\n",
    "        if ord(lst[x])>=65 and ord(lst[x])<=90:\n",
    "            c=c+1;\n",
    "    return c;\n",
    "print(countUpperCase(\"APPle\"));\n",
    "print(countUpperCase(\"wertQWERTY\"));\n",
    "    "
   ]
  },
  {
   "cell_type": "code",
   "execution_count": 49,
   "metadata": {},
   "outputs": [
    {
     "name": "stdout",
     "output_type": "stream",
     "text": [
      "2019\n"
     ]
    }
   ],
   "source": [
    "def countDigits(str):\n",
    "    lst=list(str)\n",
    "    s=''\n",
    "    for x in lst:\n",
    "        if x.isdecimal():\n",
    "            s+=x\n",
    "    return s        \n",
    "       \n",
    "print(countDigits(\"NextSparkling2019\"));\n"
   ]
  },
  {
   "cell_type": "code",
   "execution_count": 2,
   "metadata": {},
   "outputs": [
    {
     "name": "stdout",
     "output_type": "stream",
     "text": [
      "1 2 3 "
     ]
    }
   ],
   "source": [
    "def countUpperCase(str):\n",
    "    lst=list(str)\n",
    "    for x in range(len(lst)):\n",
    "        if ord(lst[x])>=48 and ord(lst[x])<=57:\n",
    "            print(lst[x],end=\" \")\n",
    "    \n",
    "countUpperCase(\"AP123\");\n",
    "countUpperCase(\"wertQWERTY\");"
   ]
  },
  {
   "cell_type": "markdown",
   "metadata": {},
   "source": [
    "# Add the digits in given string"
   ]
  },
  {
   "cell_type": "code",
   "execution_count": 2,
   "metadata": {},
   "outputs": [
    {
     "data": {
      "text/plain": [
       "26"
      ]
     },
     "execution_count": 2,
     "metadata": {},
     "output_type": "execute_result"
    }
   ],
   "source": [
    "\n",
    "def sumofDigits(str):\n",
    "    sum=0\n",
    "    lst=list(str)\n",
    "    for x in range(len(lst)):\n",
    "        if ord(lst[x])>=48 and ord(lst[x])<=57:\n",
    "            sum=sum+ord(lst[x])-48;\n",
    "    return sum\n",
    "sumofDigits(\"Application1889\")\n",
    "           \n"
   ]
  },
  {
   "cell_type": "code",
   "execution_count": 17,
   "metadata": {},
   "outputs": [
    {
     "name": "stdout",
     "output_type": "stream",
     "text": [
      "28\n",
      "0\n"
     ]
    }
   ],
   "source": [
    "# sum of even digits of given string\n",
    "\n",
    "\n",
    "def sumofDigits(str):\n",
    "    sum=0\n",
    "    lst=list(str)\n",
    "    for x in range(len(lst)):\n",
    "        if ord(lst[x])>=48 and ord(lst[x])<=57:\n",
    "            if(ord(lst[x])%2==0):\n",
    "                sum=sum+ord(lst[x])-48;\n",
    "    return sum\n",
    "print(sumofDigits(\"application1882469\"))\n",
    "print(sumofDigits(\"No.10,9\"))"
   ]
  },
  {
   "cell_type": "code",
   "execution_count": 1,
   "metadata": {},
   "outputs": [
    {
     "name": "stdout",
     "output_type": "stream",
     "text": [
      "enter the stringAqours\n",
      "aQOURS\n"
     ]
    }
   ],
   "source": [
    "## String charcter conversion\n",
    "## lower to upper and upper to lower\n",
    "\n",
    "##String Character conversion\n",
    "##If the input character is Upper case character and convert lower case\n",
    "##If input character is lower case and then\n",
    "##test cases\n",
    "##AppLICation---aPPlicATION\n",
    "##TesT---tESt\n",
    "\n",
    "s=input('enter the string')\n",
    "\n",
    "print(s.swapcase())"
   ]
  },
  {
   "cell_type": "code",
   "execution_count": 2,
   "metadata": {},
   "outputs": [],
   "source": [
    "##Stringonly specific word in Upper case/lower case\n",
    "#Test cases\n",
    "##Application test woring---TEST\n",
    "##Python is Easy-----IS"
   ]
  },
  {
   "cell_type": "code",
   "execution_count": null,
   "metadata": {},
   "outputs": [],
   "source": []
  },
  {
   "cell_type": "code",
   "execution_count": null,
   "metadata": {},
   "outputs": [],
   "source": [
    "#Alternate characters printing from both the strings\n",
    "#Test cases\n",
    "#'ab''xyz'---axbyz\n",
    "#'abcd','xy'---axbycd\n",
    "\n"
   ]
  },
  {
   "cell_type": "code",
   "execution_count": null,
   "metadata": {},
   "outputs": [],
   "source": []
  },
  {
   "cell_type": "code",
   "execution_count": null,
   "metadata": {},
   "outputs": [],
   "source": []
  },
  {
   "cell_type": "code",
   "execution_count": null,
   "metadata": {},
   "outputs": [],
   "source": []
  },
  {
   "cell_type": "code",
   "execution_count": null,
   "metadata": {},
   "outputs": [],
   "source": []
  },
  {
   "cell_type": "code",
   "execution_count": null,
   "metadata": {},
   "outputs": [],
   "source": []
  },
  {
   "cell_type": "code",
   "execution_count": null,
   "metadata": {},
   "outputs": [],
   "source": []
  },
  {
   "cell_type": "code",
   "execution_count": null,
   "metadata": {},
   "outputs": [],
   "source": []
  },
  {
   "cell_type": "code",
   "execution_count": null,
   "metadata": {},
   "outputs": [],
   "source": []
  },
  {
   "cell_type": "code",
   "execution_count": null,
   "metadata": {},
   "outputs": [],
   "source": []
  },
  {
   "cell_type": "code",
   "execution_count": null,
   "metadata": {},
   "outputs": [],
   "source": []
  },
  {
   "cell_type": "code",
   "execution_count": null,
   "metadata": {},
   "outputs": [],
   "source": []
  },
  {
   "cell_type": "code",
   "execution_count": null,
   "metadata": {},
   "outputs": [],
   "source": []
  },
  {
   "cell_type": "code",
   "execution_count": null,
   "metadata": {},
   "outputs": [],
   "source": []
  },
  {
   "cell_type": "code",
   "execution_count": null,
   "metadata": {},
   "outputs": [],
   "source": []
  },
  {
   "cell_type": "code",
   "execution_count": null,
   "metadata": {},
   "outputs": [],
   "source": []
  },
  {
   "cell_type": "code",
   "execution_count": null,
   "metadata": {},
   "outputs": [],
   "source": []
  },
  {
   "cell_type": "code",
   "execution_count": null,
   "metadata": {},
   "outputs": [],
   "source": []
  }
 ],
 "metadata": {
  "kernelspec": {
   "display_name": "Python 3",
   "language": "python",
   "name": "python3"
  },
  "language_info": {
   "codemirror_mode": {
    "name": "ipython",
    "version": 3
   },
   "file_extension": ".py",
   "mimetype": "text/x-python",
   "name": "python",
   "nbconvert_exporter": "python",
   "pygments_lexer": "ipython3",
   "version": "3.7.3"
  }
 },
 "nbformat": 4,
 "nbformat_minor": 2
}
