{
 "cells": [
  {
   "cell_type": "markdown",
   "metadata": {},
   "source": [
    "# Example 4\n",
    "GCD of 2 no.s using recursion"
   ]
  },
  {
   "cell_type": "code",
   "execution_count": 8,
   "metadata": {},
   "outputs": [
    {
     "name": "stdout",
     "output_type": "stream",
     "text": [
      "The gcd of a and b is : 15\n"
     ]
    }
   ],
   "source": [
    "\n",
    "  \n",
    "def hcf(a,b): \n",
    "    if(b==0): \n",
    "        return a \n",
    "    else: \n",
    "        return hcf(b,a%b) \n",
    "  \n",
    "  \n",
    "print (\"The gcd of a and b is : \",end=\"\") \n",
    "print (hcf(15,30)) "
   ]
  },
  {
   "cell_type": "markdown",
   "metadata": {},
   "source": [
    "GCD USING LOOP"
   ]
  },
  {
   "cell_type": "code",
   "execution_count": 9,
   "metadata": {},
   "outputs": [
    {
     "name": "stdout",
     "output_type": "stream",
     "text": [
      "The gcd of a and b is : 12\n"
     ]
    }
   ],
   "source": [
    "def gcd(x, y): \n",
    "  \n",
    "   while(y): \n",
    "       x, y = y, x % y \n",
    "  \n",
    "   return x \n",
    " \n",
    "    \n",
    "   \n",
    "print (\"The gcd of a and b is : \",end=\"\") \n",
    "print (gcd(60,48)) "
   ]
  },
  {
   "cell_type": "markdown",
   "metadata": {},
   "source": [
    "# Example 5\n",
    "To generate nth fibonacci number"
   ]
  },
  {
   "cell_type": "code",
   "execution_count": 7,
   "metadata": {},
   "outputs": [
    {
     "name": "stdout",
     "output_type": "stream",
     "text": [
      "2\n"
     ]
    }
   ],
   "source": [
    "def Fibonacci(n): \n",
    "    if n<0: \n",
    "        print(\"Incorrect input\") \n",
    "    # First Fibonacci number is 0 \n",
    "    elif n==1: \n",
    "        return 0\n",
    "    # Second Fibonacci number is 1 \n",
    "    elif n==2: \n",
    "        return 1\n",
    "    else: \n",
    "        return Fibonacci(n-1)+Fibonacci(n-2) \n",
    "    \n",
    "print(Fibonacci(4))"
   ]
  },
  {
   "cell_type": "code",
   "execution_count": 21,
   "metadata": {},
   "outputs": [
    {
     "name": "stdout",
     "output_type": "stream",
     "text": [
      "8\n"
     ]
    }
   ],
   "source": [
    "def fib(n):\n",
    "    a=0;\n",
    "    b=1;\n",
    "    i=0;\n",
    "    while(i<=n):\n",
    "        c=a+b;\n",
    "        a=b;\n",
    "        b=c;\n",
    "        i=i+1;\n",
    "    print(c)\n",
    "    return\n",
    "\n",
    "\n",
    "fib(4)\n",
    "        "
   ]
  },
  {
   "cell_type": "code",
   "execution_count": null,
   "metadata": {},
   "outputs": [],
   "source": []
  },
  {
   "cell_type": "code",
   "execution_count": null,
   "metadata": {},
   "outputs": [],
   "source": []
  },
  {
   "cell_type": "code",
   "execution_count": null,
   "metadata": {},
   "outputs": [],
   "source": []
  }
 ],
 "metadata": {
  "kernelspec": {
   "display_name": "Python 3",
   "language": "python",
   "name": "python3"
  },
  "language_info": {
   "codemirror_mode": {
    "name": "ipython",
    "version": 3
   },
   "file_extension": ".py",
   "mimetype": "text/x-python",
   "name": "python",
   "nbconvert_exporter": "python",
   "pygments_lexer": "ipython3",
   "version": "3.7.3"
  }
 },
 "nbformat": 4,
 "nbformat_minor": 2
}
