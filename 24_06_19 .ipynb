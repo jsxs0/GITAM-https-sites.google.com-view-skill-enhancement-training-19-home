{
 "cells": [
  {
   "cell_type": "code",
   "execution_count": 8,
   "metadata": {},
   "outputs": [
    {
     "name": "stdout",
     "output_type": "stream",
     "text": [
      "2550\n"
     ]
    }
   ],
   "source": [
    "def printEven(n):\n",
    "    cnt=0;\n",
    "    sum=0;\n",
    "    while(cnt!=n):\n",
    "        if(cnt%2==0):\n",
    "            sum=sum+cnt;\n",
    "        cnt=cnt+1;\n",
    "    return sum;    \n",
    "\n",
    "\n",
    "print(printEven(101));\n"
   ]
  },
  {
   "cell_type": "markdown",
   "metadata": {},
   "source": [
    "# Example 1\n",
    "List of factors of a given number"
   ]
  },
  {
   "cell_type": "code",
   "execution_count": 6,
   "metadata": {},
   "outputs": [
    {
     "name": "stdout",
     "output_type": "stream",
     "text": [
      "1 2 3 4 6 12 29 58 87 116 174 348 841 1682 2523 3364 5046 "
     ]
    }
   ],
   "source": [
    "def factorsList(n):\n",
    "    i=1;\n",
    "    while(i!=n):\n",
    "        if(n%i==0):\n",
    "            print(i,end=\" \");\n",
    "        i=i+1;\n",
    "    return;\n",
    "\n",
    "factorsList(10092);"
   ]
  },
  {
   "cell_type": "markdown",
   "metadata": {},
   "source": [
    "# List in python\n",
    "\n",
    "List can be written with square brackets and each item in the list seperated by comma (,) operator\n",
    "\n",
    "List can be of any data type----- int/char/float/double or string\n",
    "\n",
    "#### Examples of list\n",
    "\n",
    "list1=[1,2,3,4,5]<br>\n",
    "list2=[\"a\",\"b\",\"c\"]<br>\n",
    "list3=['maths','dyfweg','1237537247']<br>\n"
   ]
  },
  {
   "cell_type": "code",
   "execution_count": 8,
   "metadata": {},
   "outputs": [
    {
     "name": "stdout",
     "output_type": "stream",
     "text": [
      "[12, 67, 98, 1089]\n",
      "12\n"
     ]
    }
   ],
   "source": [
    "list=[12,67,98,1089];\n",
    "print(list)\n",
    "print(list[0])"
   ]
  },
  {
   "cell_type": "markdown",
   "metadata": {},
   "source": [
    "# For Loop\n",
    "\n",
    "## syntax:\n",
    "    \n",
    "    \n",
    "    for <varname> in <seq>:\n",
    "        <statement>\n",
    "        "
   ]
  },
  {
   "cell_type": "code",
   "execution_count": 9,
   "metadata": {},
   "outputs": [
    {
     "name": "stdout",
     "output_type": "stream",
     "text": [
      "dhyfegwf\n",
      "qf6wed3gt76\n",
      "uyedtwgkrtwe\n"
     ]
    }
   ],
   "source": [
    "list=[\"dhyfegwf\",\"qf6wed3gt76\",\"uyedtwgkrtwe\"];\n",
    "for x in list:\n",
    "    print(x);"
   ]
  },
  {
   "cell_type": "code",
   "execution_count": 1,
   "metadata": {},
   "outputs": [
    {
     "name": "stdout",
     "output_type": "stream",
     "text": [
      "1 2 3 4 5 6 7  \n",
      "1\n",
      "[4, 5, 6, 7]\n",
      "[1, 2, 3, 4, 5, 6, 7]\n",
      "[2, 3, 4, 5, 6, 7]\n",
      "[2, 3, 4, 5, 6]\n",
      "[2]\n",
      "[1, 3, 5, 7]\n",
      "[7, 6, 5, 4, 3, 2, 1]\n",
      "[1, 15, 4, 5, 6, 7]\n",
      "[1, 15, 4, 5, 6, 7, 'fgshad', 'tyew']\n",
      "8\n",
      "[1, 15, 4, 5, 6, 7, 1]\n",
      "2\n",
      "['gitam', 'python', 'raptor', 1, 5, 'python', 'python']\n",
      "['gitam', 'python', 2019, 'raptor', 1, 5, 'python', 'python']\n",
      "['gitam', 2019, 'raptor', 1, 5, 'python', 'python']\n",
      "['python', 'python', 5, 1, 'raptor', 2019, 'gitam']\n"
     ]
    }
   ],
   "source": [
    "# list example with particular index\n",
    "\n",
    "list=[1,2,3,4,5,6,7];\n",
    "for x in list:\n",
    "    print(x,end=\" \");\n",
    "    \n",
    "print(\" \");    \n",
    "print(list[0]);\n",
    "#this is slicing\n",
    "print(list[3:7]);\n",
    "print(list[:7]);\n",
    "print(list[1:90]);\n",
    "print(list[1:-1]);\n",
    "print(list[1:-5]);\n",
    "print(list[::2]);\n",
    "print(list[::-1]);\n",
    "list[2]=15 # update\n",
    "\n",
    "# deletion\n",
    "del list[1];\n",
    "print(list);\n",
    "\n",
    "#merge\n",
    "\n",
    "list2=[\"fgshad\",\"tyew\"];\n",
    "\n",
    "print(list+list2);\n",
    "\n",
    "print(len(list+list2)); # for length of the array\n",
    "\n",
    "list.append(1);\n",
    "print(list);\n",
    "\n",
    "print(list.count(1)); # for counting the no of times the var passed\n",
    "\n",
    "lst1=[\"gitam\", \"python\", \"raptor\", 1,5,\"python\", \"python\"];\n",
    "print(lst1);\n",
    "lst1.index(\"python\")\n",
    "lst1.index(1)\n",
    "\n",
    "\n",
    "lst1.insert(2,2019)\n",
    "print(lst1)\n",
    "\n",
    "\n",
    "lst1.remove(\"python\");\n",
    "print(lst1);\n",
    "\n",
    "lst1.reverse()\n",
    "print(lst1)\n",
    "\n",
    "\n"
   ]
  },
  {
   "cell_type": "markdown",
   "metadata": {},
   "source": [
    "# List methods\n",
    "\n",
    "#### 1. append(obj)\n",
    "to append the list(add one more data)\n",
    " listname.append(var);\n",
    "\n",
    "#### 2. count(obj)\n",
    "how many times the obj passsed is counted\n",
    "\n",
    "#### 3. index(obj)\n",
    "it returns the index of passed object first occurance from left side\n",
    "\n",
    "#### 4. insert(index,obj)\n",
    "inserts the passed obj at given index\n",
    "\n",
    "#### 5. remove(obj)\n",
    "removes the passed object from 1st occurence\n",
    "\n",
    "#### 6. reverse()\n",
    "reverses the list\n",
    "      \n",
    "\n",
    "\n"
   ]
  },
  {
   "cell_type": "code",
   "execution_count": null,
   "metadata": {},
   "outputs": [],
   "source": []
  },
  {
   "cell_type": "code",
   "execution_count": null,
   "metadata": {},
   "outputs": [],
   "source": []
  }
 ],
 "metadata": {
  "kernelspec": {
   "display_name": "Python 3",
   "language": "python",
   "name": "python3"
  },
  "language_info": {
   "codemirror_mode": {
    "name": "ipython",
    "version": 3
   },
   "file_extension": ".py",
   "mimetype": "text/x-python",
   "name": "python",
   "nbconvert_exporter": "python",
   "pygments_lexer": "ipython3",
   "version": "3.7.3"
  }
 },
 "nbformat": 4,
 "nbformat_minor": 2
}
