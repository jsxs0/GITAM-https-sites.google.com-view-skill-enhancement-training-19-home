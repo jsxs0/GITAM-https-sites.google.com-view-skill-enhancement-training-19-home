{
 "cells": [
  {
   "cell_type": "markdown",
   "metadata": {},
   "source": [
    "# EXAMPLE\n",
    "sum of even numbers\n"
   ]
  },
  {
   "cell_type": "code",
   "execution_count": 4,
   "metadata": {},
   "outputs": [
    {
     "name": "stdout",
     "output_type": "stream",
     "text": [
      "90\n"
     ]
    }
   ],
   "source": [
    "def printeven(n):\n",
    "  cnt=0;\n",
    "  sum=0;\n",
    "  while(cnt!=n):\n",
    "    if(cnt%2==0):\n",
    "     sum=sum+cnt;\n",
    "    cnt=cnt+1;\n",
    "  return sum;\n",
    "print(printeven(20));"
   ]
  },
  {
   "cell_type": "markdown",
   "metadata": {},
   "source": [
    "# EXAMPLE\n",
    "Factors list of the given number"
   ]
  },
  {
   "cell_type": "code",
   "execution_count": 13,
   "metadata": {},
   "outputs": [
    {
     "name": "stdout",
     "output_type": "stream",
     "text": [
      "1\n",
      "2\n",
      "3\n",
      "4\n",
      "6\n"
     ]
    }
   ],
   "source": [
    "def factorsList(n):\n",
    "    i = 1;\n",
    "    while(i!=n):\n",
    "        if(n%i==0):\n",
    "            print(i);\n",
    "        i = i + 1;\n",
    "    return;\n",
    "\n",
    "factorsList(12);"
   ]
  },
  {
   "cell_type": "markdown",
   "metadata": {},
   "source": [
    "# EXAMPLE\n",
    "List in python"
   ]
  },
  {
   "cell_type": "code",
   "execution_count": 16,
   "metadata": {},
   "outputs": [
    {
     "name": "stdout",
     "output_type": "stream",
     "text": [
      "[1, 2, 3, 4, 5]\n",
      "1\n"
     ]
    }
   ],
   "source": [
    "list1=[1,2,3,4,5];\n",
    "#Entire list\n",
    "print(list1);\n",
    "#List[0]\n",
    "print(list1[0])"
   ]
  },
  {
   "cell_type": "raw",
   "metadata": {},
   "source": [
    "LIST USING FOR LOOP\n"
   ]
  },
  {
   "cell_type": "code",
   "execution_count": 18,
   "metadata": {},
   "outputs": [
    {
     "name": "stdout",
     "output_type": "stream",
     "text": [
      "akki\n",
      "arvi\n",
      "ani\n",
      "akas\n"
     ]
    }
   ],
   "source": [
    "list2=[\"akki\",\"arvi\",\"ani\",\"akas\"];\n",
    "for x in list2:\n",
    "  print(x);"
   ]
  },
  {
   "cell_type": "markdown",
   "metadata": {},
   "source": [
    "# EXAMPLE"
   ]
  },
  {
   "cell_type": "code",
   "execution_count": 31,
   "metadata": {},
   "outputs": [
    {
     "name": "stdout",
     "output_type": "stream",
     "text": [
      "1\n",
      "2\n",
      "3\n",
      "4\n",
      "5\n",
      "6\n",
      "7\n",
      "()\n",
      "5\n",
      "[4, 5, 6, 7]\n",
      "[1, 2, 3]\n",
      "[1, 2, 3]\n",
      "[1, 2, 3, 4, 5, 6, 7]\n"
     ]
    }
   ],
   "source": [
    "#List example with particular index\n",
    "lst1=[1,2,3,4,5,6,7]\n",
    "for x in lst1:\n",
    " print(x)\n",
    "print();\n",
    "print(lst1[4]);\n",
    "print(lst1[3:7]);\n",
    "print(lst1[0:3]);\n",
    "print(lst1[:3]);\n",
    "print(lst1[:7]);"
   ]
  },
  {
   "cell_type": "markdown",
   "metadata": {},
   "source": [
    "# EXAMPLE"
   ]
  },
  {
   "cell_type": "code",
   "execution_count": 43,
   "metadata": {},
   "outputs": [
    {
     "name": "stdout",
     "output_type": "stream",
     "text": [
      "1\n",
      "2\n",
      "3\n",
      "4\n",
      "5\n",
      "6\n",
      "7\n",
      "8\n",
      "9\n",
      "10\n",
      "()\n",
      "[2, 3, 4, 5, 6, 7, 8, 9]\n",
      "[3, 4, 5, 6, 7, 8]\n",
      "[1, 3, 5, 7, 9]\n",
      "[1, 4, 7, 10]\n",
      "[1, 5, 9]\n",
      "[10, 8, 6, 4, 2]\n",
      "10\n",
      "9\n"
     ]
    }
   ],
   "source": [
    "lst1=[1,2,3,4,5,6,7,8,9,10]\n",
    "for x in lst1:\n",
    "    print(x)\n",
    "print();\n",
    "print(lst1[1:-1]);\n",
    "print(lst1[2:-2]);\n",
    "print(lst1[::2]);\n",
    "print(lst1[::3]);\n",
    "print(lst1[::4]);\n",
    "print(lst1[::-2]);\n",
    "print(lst1[-1]);\n",
    "print(lst1[-2]);"
   ]
  },
  {
   "cell_type": "markdown",
   "metadata": {},
   "source": [
    "# EXAMPLE\n",
    "various operations on the list"
   ]
  },
  {
   "cell_type": "code",
   "execution_count": 34,
   "metadata": {},
   "outputs": [
    {
     "name": "stdout",
     "output_type": "stream",
     "text": [
      "['anil', 'adarsh', 'akhil', 1]\n",
      "['anil', 'adarsh', 15, 1]\n",
      "['anil', 'adarsh', 15]\n",
      "['anil', 'gitam', 15]\n",
      "[1, 2, 3]\n",
      "['anil', 'gitam', 15, 1, 2, 3]\n"
     ]
    }
   ],
   "source": [
    "lst1 =[\"anil\",\"adarsh\",\"akhil\",1]\n",
    "print(lst1);\n",
    "\n",
    "lst1[2]=15; # update the list item\n",
    "print(lst1);\n",
    "\n",
    "del lst1[3]; # delete the list item\n",
    "print(lst1);\n",
    "\n",
    "lst1[1]=\"gitam\";\n",
    "print(lst1);\n",
    "lst2=[1,2,3];\n",
    "print(lst2);\n",
    "print(lst1+lst2); # concatination of both the lists"
   ]
  },
  {
   "cell_type": "markdown",
   "metadata": {},
   "source": [
    "# EXAMPLE\n",
    "LIST METHOD     \n",
    "append:mix the given number in the list"
   ]
  },
  {
   "cell_type": "code",
   "execution_count": 49,
   "metadata": {
    "scrolled": true
   },
   "outputs": [
    {
     "name": "stdout",
     "output_type": "stream",
     "text": [
      "[1, 2, 3, 4, 5]\n",
      "[1, 2, 4, 5]\n",
      "4\n",
      "[1, 2, 4, 5, 15, 150, 1, 3, 1]\n",
      "3\n",
      "1\n"
     ]
    }
   ],
   "source": [
    "lst1=[1,2,3,4,5]\n",
    "print(lst1);\n",
    "del lst1[2];\n",
    "print(lst1);\n",
    "print(len(lst1)); # user to find the len of the list\n",
    "lst1.append(15);\n",
    "lst1.append(150);\n",
    "lst1.append(1);\n",
    "lst1.append(3);\n",
    "lst1.append(1);\n",
    "print(lst1);\n",
    "print(lst1.count(1))\n",
    "print(lst1.count(3))\n"
   ]
  },
  {
   "cell_type": "markdown",
   "metadata": {},
   "source": [
    "# EXAMPLE\n",
    "####index(obj)    \n",
    "Its returns the index of passed object first occurance from the left side."
   ]
  },
  {
   "cell_type": "code",
   "execution_count": 54,
   "metadata": {},
   "outputs": [
    {
     "name": "stdout",
     "output_type": "stream",
     "text": [
      "['gitam', 'python', 'raptor', 1, 5, 'python', 'python']\n",
      "1\n",
      "7\n",
      "['gitam', 'python', 2019, 'raptor', 1, 5, 'python', 'python']\n",
      "8\n",
      "['gitam', 'python', 2019, 'raptor', 2020, 1, 5, 'python', 'python']\n"
     ]
    }
   ],
   "source": [
    "lst1=[\"gitam\",\"python\",\"raptor\",1,5,\"python\",\"python\"]\n",
    "print(lst1)\n",
    "print(lst1.index(\"python\"))\n",
    "lst1.index(1)\n",
    "print(len(lst1))\n",
    "lst1.insert(2,2019)\n",
    "print(lst1)\n",
    "print(len(lst1))\n",
    "lst1.insert(4,2020)\n",
    "print(lst1)"
   ]
  },
  {
   "cell_type": "markdown",
   "metadata": {},
   "source": [
    "# EXAMPLE\n",
    "remove(obj):The remove method removes the passed object from the first occurance from the left direction    \n",
    "reverse: reverse the given object"
   ]
  },
  {
   "cell_type": "code",
   "execution_count": 55,
   "metadata": {},
   "outputs": [
    {
     "name": "stdout",
     "output_type": "stream",
     "text": [
      "['Gitam', 'Python', 'Raptor', 1, 5, 'Python', 'Python']\n",
      "['Gitam', 'Raptor', 1, 5, 'Python', 'Python']\n",
      "['Gitam', 'Raptor', 1, 5, 'Python']\n",
      "['Python', 5, 1, 'Raptor', 'Gitam']\n"
     ]
    }
   ],
   "source": [
    "lst1=[\"Gitam\",\"Python\",\"Raptor\",1,5,\"Python\",\"Python\"]\n",
    "print(lst1)\n",
    "lst1.remove(\"Python\")\n",
    "print(lst1)\n",
    "lst1.remove(\"Python\")\n",
    "print(lst1)\n",
    "lst1.reverse()\n",
    "print(lst1)"
   ]
  },
  {
   "cell_type": "markdown",
   "metadata": {},
   "source": [
    "# DATA STRUCTURES"
   ]
  },
  {
   "cell_type": "markdown",
   "metadata": {},
   "source": [
    "**How to store the data    List--Data structure\n",
    "**How to search             Arrays--Data structure\n",
    "             #### Linear search ( It can be applied on sorted/unsorted list)\n",
    "             ~Linear search can be applied on unique list/duplicate list.\n",
    "             Unique list--All items in the list appears only for once.\n",
    "             Duplicate list--Items of the list sometimes appears more than once.\n",
    "             #### Binary search\n",
    "**How to sort"
   ]
  },
  {
   "cell_type": "markdown",
   "metadata": {},
   "source": [
    "# EXAMPLE\n",
    "Linear search"
   ]
  },
  {
   "cell_type": "code",
   "execution_count": 64,
   "metadata": {},
   "outputs": [
    {
     "name": "stdout",
     "output_type": "stream",
     "text": [
      "target item is found\n"
     ]
    }
   ],
   "source": [
    "def linearsearch(a,taritem):\n",
    "  flag=0;\n",
    "  for i in range(len(a)):\n",
    "    if a[i]==taritem:\n",
    "      flag=1;\n",
    "      break\n",
    "  if(flag!=0):\n",
    "    print(\"target item is found\")\n",
    "  else:\n",
    "    print(\"target item is not found\")\n",
    "a=[16,2,12,6,9,7,1]\n",
    "linearsearch(a,16)"
   ]
  },
  {
   "cell_type": "markdown",
   "metadata": {},
   "source": [
    "# EXAMPLE\n",
    "search the number how many times repeated"
   ]
  },
  {
   "cell_type": "code",
   "execution_count": 2,
   "metadata": {},
   "outputs": [
    {
     "name": "stdout",
     "output_type": "stream",
     "text": [
      "2\n"
     ]
    }
   ],
   "source": [
    "def linearsearch(a,taritem):\n",
    "    flag=0;\n",
    "    for i in range(len(a)):\n",
    "        if(a[i]==taritem):\n",
    "            flag=flag+1\n",
    " \n",
    "    print(flag);\n",
    "a=[9,1,6,1,5,9,15,16]\n",
    "linearsearch(a,9)"
   ]
  },
  {
   "cell_type": "markdown",
   "metadata": {},
   "source": [
    "# EXAMPLE\n",
    "Input:list     \n",
    "output:indexes of targeted item (taritem)"
   ]
  },
  {
   "cell_type": "code",
   "execution_count": 3,
   "metadata": {},
   "outputs": [
    {
     "name": "stdout",
     "output_type": "stream",
     "text": [
      "1\n",
      "4\n",
      "7\n"
     ]
    }
   ],
   "source": [
    "def linearexample(a,taritem):\n",
    "    for i in range(len(a)):\n",
    "        if(a[i]==taritem):\n",
    "             print(i)\n",
    " \n",
    "    \n",
    "a=[1,5,9,6,5,15,12,5]\n",
    "linearexample(a,5)"
   ]
  },
  {
   "cell_type": "markdown",
   "metadata": {},
   "source": [
    "# EXAMPLE\n",
    "input:list    \n",
    "output:a seq of characters     \n",
    "test cases:   \n",
    "[1,5,9,6,5,15,12,5],tar=5--[! !!!! !!!!!!!]"
   ]
  },
  {
   "cell_type": "code",
   "execution_count": 17,
   "metadata": {},
   "outputs": [
    {
     "name": "stdout",
     "output_type": "stream",
     "text": [
      "!\n",
      "!\n",
      " \n",
      "!\n",
      "!\n",
      "!\n",
      "!\n",
      "!\n",
      " \n",
      "!\n",
      "!\n",
      "!\n",
      "!\n",
      "!\n",
      "!\n",
      "!\n",
      "!\n",
      " \n"
     ]
    }
   ],
   "source": [
    "def linearexample(a,taritem):\n",
    "    for i in range(len(a)):\n",
    "        if(a[i]==taritem):\n",
    "            j=0;\n",
    "            while j!=i+1:\n",
    "                 print(\"!\");\n",
    "                 j=j+1\n",
    "            print(\" \")\n",
    "a=[1,5,9,6,5,15,12,5]\n",
    "linearexample(a,5)"
   ]
  },
  {
   "cell_type": "markdown",
   "metadata": {},
   "source": [
    "# EXAMPLE\n",
    "Input:List\n",
    "Output:As per the given    \n",
    "\n",
    "Test cases:    \n",
    "[15,12,2,9,18,36,45]   \n",
    "\n",
    "A list item should be perfect multiple of 3 and 5   \n",
    "Sum of all the list items which is perfect multiple of 3 and 5    "
   ]
  },
  {
   "cell_type": "code",
   "execution_count": 29,
   "metadata": {},
   "outputs": [
    {
     "data": {
      "text/plain": [
       "60"
      ]
     },
     "execution_count": 29,
     "metadata": {},
     "output_type": "execute_result"
    }
   ],
   "source": [
    "def linearexample(a):\n",
    "    sum=0\n",
    "    for i in range(len(a)):\n",
    "        if(a[i]%3==0 and a[i]%5==0):\n",
    "                 sum=sum+a[i];\n",
    "    return sum\n",
    "\n",
    "a=[15,12,2,9,18,36,45]   \n",
    "linearexample(a)"
   ]
  },
  {
   "cell_type": "markdown",
   "metadata": {},
   "source": [
    "# EXAMPLE\n",
    "input:list   \n",
    "output:formatted output   \n",
    "test cases:   \n",
    "[1,2,3,4,5]----1 3 8 15 5   "
   ]
  },
  {
   "cell_type": "code",
   "execution_count": 31,
   "metadata": {},
   "outputs": [
    {
     "name": "stdout",
     "output_type": "stream",
     "text": [
      "1\n",
      "3\n",
      "8\n",
      "15\n",
      "5\n"
     ]
    }
   ],
   "source": [
    "def linearexample(a):\n",
    "    for i in range(len(a)):\n",
    "        if i==0 or i==(len(a)-1):\n",
    "            print(a[i])\n",
    "        else:\n",
    "             print(a[i-1]*a[i+1])\n",
    "    \n",
    "    \n",
    "    \n",
    "a=[1,2,3,4,5]\n",
    "linearexample(a)"
   ]
  },
  {
   "cell_type": "markdown",
   "metadata": {},
   "source": [
    "# EXAMPLE\n",
    "Input:list\n",
    "output:formatted output    \n",
    "Test cases:   \n",
    "[1,6,9,4,16,19,22] -- 1 9 19 22   \n",
    "#first last print same in middle if it is even number on both sides than print   "
   ]
  },
  {
   "cell_type": "code",
   "execution_count": 35,
   "metadata": {},
   "outputs": [
    {
     "name": "stdout",
     "output_type": "stream",
     "text": [
      "1\n",
      "9\n",
      "19\n",
      "22\n"
     ]
    }
   ],
   "source": [
    " def linearexample(a):\n",
    "    for i in range(len(a)):\n",
    "        if i==0 or i==(len(a)-1):\n",
    "            print(a[i])\n",
    "        elif(a[i-1]%2==0 and a[i+1]%2==0):\n",
    "            print(a[i])\n",
    "            \n",
    "a=[1,6,9,4,16,19,22]\n",
    "linearexample(a)          "
   ]
  },
  {
   "cell_type": "markdown",
   "metadata": {},
   "source": [
    "# EXAMPLE\n",
    "Input: a number\n",
    "Output:list    \n",
    "\n",
    "Test cases:     \n",
    "14569--[1,4,5,6,9]    \n",
    "1974--[1,9,7,4]        "
   ]
  },
  {
   "cell_type": "code",
   "execution_count": 38,
   "metadata": {},
   "outputs": [
    {
     "name": "stdout",
     "output_type": "stream",
     "text": [
      "enter a number14569\n",
      "[1, 4, 5, 6, 9]\n"
     ]
    }
   ],
   "source": [
    "def numbertolistconversion(n):\n",
    "    lst=[]\n",
    "    while n!=0:\n",
    "        r=n%10\n",
    "        lst.append(r)\n",
    "        n=n//10\n",
    "    lst.reverse()\n",
    "    print(lst)\n",
    "    \n",
    "n=int(input(\"enter a number\"))\n",
    "numbertolistconversion(n)\n",
    "        \n",
    "        \n",
    "        \n"
   ]
  },
  {
   "cell_type": "markdown",
   "metadata": {},
   "source": [
    "# EXAMPLE\n",
    "list to number conversion                                                                                         \n",
    "1.[1,4,5,6,9]--14569                                                                                                  \n",
    "2.[1,4,5,6,9]--46(you have consider only even in the list)                                                                \n",
    "3.14569--[4,6](you have consider only even digit to list) Objective     \n",
    "4.[1,2,3,4,5]--[1,4,3,16,5 ]    \n",
    "5.[15,19,12,16,4]--[15,34,31,28,4]                                                           "
   ]
  },
  {
   "cell_type": "code",
   "execution_count": 1,
   "metadata": {},
   "outputs": [
    {
     "name": "stdout",
     "output_type": "stream",
     "text": [
      "14569"
     ]
    }
   ],
   "source": [
    "# Python3 program to convert a list \n",
    "# of integers into a single integer \n",
    "\n",
    "# creating a list \n",
    "lst = [1,4,5,6,9] \n",
    "\n",
    "# iterating each element \n",
    "for i in lst: \n",
    "   print(i,end=\"\")\n"
   ]
  },
  {
   "cell_type": "markdown",
   "metadata": {},
   "source": [
    "#  EXAMPLE\n",
    "[1,4,5,6,9]--46(you have consider only even in the list)"
   ]
  },
  {
   "cell_type": "code",
   "execution_count": 44,
   "metadata": {},
   "outputs": [
    {
     "name": "stdout",
     "output_type": "stream",
     "text": [
      "6\n",
      "4\n",
      "16\n",
      "22\n"
     ]
    }
   ],
   "source": [
    "def linearexample(a):\n",
    "    for i in range(len(a)):        \n",
    "        if(a[i]%2==0):\n",
    "            print(a[i])\n",
    "            \n",
    "a=[1,6,9,4,16,19,22]\n",
    "linearexample(a) "
   ]
  },
  {
   "cell_type": "markdown",
   "metadata": {},
   "source": [
    "# EXAMPLE\n",
    "14569--[4,6](you have consider only even digit to list) Objective"
   ]
  },
  {
   "cell_type": "code",
   "execution_count": 6,
   "metadata": {},
   "outputs": [
    {
     "name": "stdout",
     "output_type": "stream",
     "text": [
      "enter a number134\n",
      "[4]\n"
     ]
    }
   ],
   "source": [
    "def numbertolistconversion(n):\n",
    "    lst=[]\n",
    "    while n!=0 and n%2==0:\n",
    "        r=n%10\n",
    "        lst.append(r)\n",
    "        n=n//10\n",
    "    lst.reverse()\n",
    "    print(lst)\n",
    "    \n",
    "n=int(input(\"enter a number\"))\n",
    "numbertolistconversion(n)"
   ]
  },
  {
   "cell_type": "markdown",
   "metadata": {},
   "source": [
    "# Example\n",
    "[1,2,3,4,5]--[1,4,3,16,5 ]"
   ]
  },
  {
   "cell_type": "code",
   "execution_count": 9,
   "metadata": {},
   "outputs": [
    {
     "name": "stdout",
     "output_type": "stream",
     "text": [
      "36\n",
      "16\n",
      "361\n"
     ]
    }
   ],
   "source": [
    "def linearexample(a):\n",
    "    for i in range(len(a)):        \n",
    "        if(i%2!=0):\n",
    "            a[i]=a[i]**2\n",
    "            print(a[i])\n",
    "            \n",
    "a=[1,6,9,4,16,19,22]\n",
    "linearexample(a) "
   ]
  },
  {
   "cell_type": "markdown",
   "metadata": {},
   "source": [
    "# Example\n",
    "[15,19,12,16,4]--[15,34,31,28,4]"
   ]
  },
  {
   "cell_type": "code",
   "execution_count": 21,
   "metadata": {},
   "outputs": [
    {
     "name": "stdout",
     "output_type": "stream",
     "text": [
      "15\n",
      "34\n",
      "31\n",
      "28\n",
      "4\n"
     ]
    }
   ],
   "source": [
    "def linearexample(a):\n",
    "    for i in range(len(a)):\n",
    "        if(i==0 or i==len(a)-1):\n",
    "            print(a[i]);\n",
    "        elif(i<len(a)-1):\n",
    "            print(a[i-1]+a[i]);\n",
    "    \n",
    "            \n",
    "            \n",
    "a=[15,19,12,16,4]\n",
    "linearexample(a) "
   ]
  },
  {
   "cell_type": "code",
   "execution_count": null,
   "metadata": {},
   "outputs": [],
   "source": []
  }
 ],
 "metadata": {
  "kernelspec": {
   "display_name": "Python 3",
   "language": "python",
   "name": "python3"
  },
  "language_info": {
   "codemirror_mode": {
    "name": "ipython",
    "version": 3
   },
   "file_extension": ".py",
   "mimetype": "text/x-python",
   "name": "python",
   "nbconvert_exporter": "python",
   "pygments_lexer": "ipython3",
   "version": "3.7.3"
  }
 },
 "nbformat": 4,
 "nbformat_minor": 2
}
