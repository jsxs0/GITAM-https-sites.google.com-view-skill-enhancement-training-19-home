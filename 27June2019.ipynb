{
 "cells": [
  {
   "cell_type": "markdown",
   "metadata": {},
   "source": [
    "# File Handling in Python\n",
    "\n",
    "\n",
    "...\n",
    "File:- Document containg information residing on doc,pdf,text,csv files etc...\n",
    "\n",
    "\n",
    "File I/O : input and output\n",
    "           Keyboard as input\n",
    "           screen as output\n",
    "            \n",
    "            operations to be done-----> Read/Write\n",
    "            \n",
    "            Methods\n",
    "            \n",
    "            open()-- open file\n",
    "            open(filename,\"mode of file\")\n",
    "            \n",
    "            close()--close file \n",
    "-------\n",
    "\n",
    "#\n",
    "\n",
    "\"r\" --- opens file for reading\n",
    "\n",
    "\"w\" --- open the file writing. If file is not present it creates a file and writes data"
   ]
  },
  {
   "cell_type": "code",
   "execution_count": 3,
   "metadata": {},
   "outputs": [
    {
     "name": "stdout",
     "output_type": "stream",
     "text": [
      "File is created and Data is written\n"
     ]
    }
   ],
   "source": [
    "#Function to create file and write some data\n",
    "\n",
    "def createFile(filename):\n",
    "    f=open(filename,\"w\")\n",
    "    for i in range(10):\n",
    "        f.write(\"this is %d line\\n\"%i)\n",
    "    print(\"File is created and Data is written\")\n",
    "    f.close()    \n",
    "    return\n",
    "createFile(\"file.txt\")"
   ]
  },
  {
   "cell_type": "code",
   "execution_count": 10,
   "metadata": {},
   "outputs": [
    {
     "name": "stdout",
     "output_type": "stream",
     "text": [
      "this is 0 line\n",
      "this is 1 line\n",
      "this is 2 line\n",
      "this is 3 line\n",
      "this is 4 line\n",
      "this is 5 line\n",
      "this is 6 line\n",
      "this is 7 line\n",
      "this is 8 line\n",
      "this is 9 line\n",
      "\n"
     ]
    }
   ],
   "source": [
    "#Function to read file\n",
    "def readFile(filename):\n",
    "    f=open(filename,\"r\")\n",
    "    if f.mode==\"r\":\n",
    "        x=f.read()\n",
    "        print(x)\n",
    "    f.close()    \n",
    "    return\n",
    "readFile(\"file.txt\")\n"
   ]
  },
  {
   "cell_type": "code",
   "execution_count": 11,
   "metadata": {},
   "outputs": [
    {
     "name": "stdout",
     "output_type": "stream",
     "text": [
      "File is created and Data is written\n"
     ]
    }
   ],
   "source": [
    "\n",
    "def createFile(filename):\n",
    "    f=open(filename,\"w\")\n",
    "    for i in range(10):\n",
    "        f.write(\"Test %d line \\n\"%i)\n",
    "    print(\"File is created and Data is written\")\n",
    "    f.close()    \n",
    "    return\n",
    "createFile(\"file.txt\")"
   ]
  },
  {
   "cell_type": "code",
   "execution_count": null,
   "metadata": {},
   "outputs": [],
   "source": []
  }
 ],
 "metadata": {
  "kernelspec": {
   "display_name": "Python 3",
   "language": "python",
   "name": "python3"
  },
  "language_info": {
   "codemirror_mode": {
    "name": "ipython",
    "version": 3
   },
   "file_extension": ".py",
   "mimetype": "text/x-python",
   "name": "python",
   "nbconvert_exporter": "python",
   "pygments_lexer": "ipython3",
   "version": "3.7.3"
  }
 },
 "nbformat": 4,
 "nbformat_minor": 2
}
